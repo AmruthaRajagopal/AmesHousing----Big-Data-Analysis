{
 "cells": [
  {
   "cell_type": "markdown",
   "id": "40ab6e40",
   "metadata": {},
   "source": [
    "<h1 align='center' style=\"color: blue;\">Big Data Analytics - AmesHousing</h1>"
   ]
  },
  {
   "cell_type": "markdown",
   "id": "3711baa5",
   "metadata": {},
   "source": [
    "<h3 align='center' style=\"color: black;\">Importing libraries and working with data</h3>"
   ]
  },
  {
   "cell_type": "code",
   "execution_count": 74,
   "id": "a5d10d36",
   "metadata": {},
   "outputs": [],
   "source": [
    "import numpy as np\n",
    "import pandas as pd\n",
    "import matplotlib as mpl\n",
    "import matplotlib.pyplot as plt\n",
    "import seaborn as sns\n",
    "%matplotlib inline"
   ]
  },
  {
   "cell_type": "code",
   "execution_count": 75,
   "id": "a8f5158c",
   "metadata": {},
   "outputs": [],
   "source": [
    "columns = ['Overall Qual', 'Overall Cond', 'Gr Liv Area',\n",
    "           'Central Air', 'Total Bsmt SF', 'SalePrice']\n",
    "\n",
    "house_df = pd.read_csv('http://jse.amstat.org/v19n3/decock/AmesHousing.txt', \n",
    "                 sep='\\t',\n",
    "                 usecols=columns)\n"
   ]
  },
  {
   "cell_type": "code",
   "execution_count": 76,
   "id": "f0ce7cb2",
   "metadata": {},
   "outputs": [
    {
     "data": {
      "text/html": [
       "<div>\n",
       "<style scoped>\n",
       "    .dataframe tbody tr th:only-of-type {\n",
       "        vertical-align: middle;\n",
       "    }\n",
       "\n",
       "    .dataframe tbody tr th {\n",
       "        vertical-align: top;\n",
       "    }\n",
       "\n",
       "    .dataframe thead th {\n",
       "        text-align: right;\n",
       "    }\n",
       "</style>\n",
       "<table border=\"1\" class=\"dataframe\">\n",
       "  <thead>\n",
       "    <tr style=\"text-align: right;\">\n",
       "      <th></th>\n",
       "      <th>Overall Qual</th>\n",
       "      <th>Overall Cond</th>\n",
       "      <th>Total Bsmt SF</th>\n",
       "      <th>Central Air</th>\n",
       "      <th>Gr Liv Area</th>\n",
       "      <th>SalePrice</th>\n",
       "    </tr>\n",
       "  </thead>\n",
       "  <tbody>\n",
       "    <tr>\n",
       "      <th>0</th>\n",
       "      <td>6</td>\n",
       "      <td>5</td>\n",
       "      <td>1080.0</td>\n",
       "      <td>Y</td>\n",
       "      <td>1656</td>\n",
       "      <td>215000</td>\n",
       "    </tr>\n",
       "    <tr>\n",
       "      <th>1</th>\n",
       "      <td>5</td>\n",
       "      <td>6</td>\n",
       "      <td>882.0</td>\n",
       "      <td>Y</td>\n",
       "      <td>896</td>\n",
       "      <td>105000</td>\n",
       "    </tr>\n",
       "    <tr>\n",
       "      <th>2</th>\n",
       "      <td>6</td>\n",
       "      <td>6</td>\n",
       "      <td>1329.0</td>\n",
       "      <td>Y</td>\n",
       "      <td>1329</td>\n",
       "      <td>172000</td>\n",
       "    </tr>\n",
       "    <tr>\n",
       "      <th>3</th>\n",
       "      <td>7</td>\n",
       "      <td>5</td>\n",
       "      <td>2110.0</td>\n",
       "      <td>Y</td>\n",
       "      <td>2110</td>\n",
       "      <td>244000</td>\n",
       "    </tr>\n",
       "    <tr>\n",
       "      <th>4</th>\n",
       "      <td>5</td>\n",
       "      <td>5</td>\n",
       "      <td>928.0</td>\n",
       "      <td>Y</td>\n",
       "      <td>1629</td>\n",
       "      <td>189900</td>\n",
       "    </tr>\n",
       "  </tbody>\n",
       "</table>\n",
       "</div>"
      ],
      "text/plain": [
       "   Overall Qual  Overall Cond  Total Bsmt SF Central Air  Gr Liv Area  \\\n",
       "0             6             5         1080.0           Y         1656   \n",
       "1             5             6          882.0           Y          896   \n",
       "2             6             6         1329.0           Y         1329   \n",
       "3             7             5         2110.0           Y         2110   \n",
       "4             5             5          928.0           Y         1629   \n",
       "\n",
       "   SalePrice  \n",
       "0     215000  \n",
       "1     105000  \n",
       "2     172000  \n",
       "3     244000  \n",
       "4     189900  "
      ]
     },
     "execution_count": 76,
     "metadata": {},
     "output_type": "execute_result"
    }
   ],
   "source": [
    "house_df.head()"
   ]
  },
  {
   "cell_type": "markdown",
   "id": "eddbf25d",
   "metadata": {},
   "source": [
    "<h3 align='center' style=\"color: black;\"> Data Preprocessing </h3>"
   ]
  },
  {
   "cell_type": "code",
   "execution_count": 77,
   "id": "10a5066c",
   "metadata": {},
   "outputs": [],
   "source": [
    "house_df['Central Air'] = house_df['Central Air'].map({'Y': 1, 'N':0})"
   ]
  },
  {
   "cell_type": "code",
   "execution_count": 78,
   "id": "7941a374",
   "metadata": {},
   "outputs": [
    {
     "data": {
      "text/html": [
       "<div>\n",
       "<style scoped>\n",
       "    .dataframe tbody tr th:only-of-type {\n",
       "        vertical-align: middle;\n",
       "    }\n",
       "\n",
       "    .dataframe tbody tr th {\n",
       "        vertical-align: top;\n",
       "    }\n",
       "\n",
       "    .dataframe thead th {\n",
       "        text-align: right;\n",
       "    }\n",
       "</style>\n",
       "<table border=\"1\" class=\"dataframe\">\n",
       "  <thead>\n",
       "    <tr style=\"text-align: right;\">\n",
       "      <th></th>\n",
       "      <th>Overall Qual</th>\n",
       "      <th>Overall Cond</th>\n",
       "      <th>Total Bsmt SF</th>\n",
       "      <th>Central Air</th>\n",
       "      <th>Gr Liv Area</th>\n",
       "      <th>SalePrice</th>\n",
       "    </tr>\n",
       "  </thead>\n",
       "  <tbody>\n",
       "    <tr>\n",
       "      <th>0</th>\n",
       "      <td>6</td>\n",
       "      <td>5</td>\n",
       "      <td>1080.0</td>\n",
       "      <td>1</td>\n",
       "      <td>1656</td>\n",
       "      <td>215000</td>\n",
       "    </tr>\n",
       "    <tr>\n",
       "      <th>1</th>\n",
       "      <td>5</td>\n",
       "      <td>6</td>\n",
       "      <td>882.0</td>\n",
       "      <td>1</td>\n",
       "      <td>896</td>\n",
       "      <td>105000</td>\n",
       "    </tr>\n",
       "    <tr>\n",
       "      <th>2</th>\n",
       "      <td>6</td>\n",
       "      <td>6</td>\n",
       "      <td>1329.0</td>\n",
       "      <td>1</td>\n",
       "      <td>1329</td>\n",
       "      <td>172000</td>\n",
       "    </tr>\n",
       "    <tr>\n",
       "      <th>3</th>\n",
       "      <td>7</td>\n",
       "      <td>5</td>\n",
       "      <td>2110.0</td>\n",
       "      <td>1</td>\n",
       "      <td>2110</td>\n",
       "      <td>244000</td>\n",
       "    </tr>\n",
       "    <tr>\n",
       "      <th>4</th>\n",
       "      <td>5</td>\n",
       "      <td>5</td>\n",
       "      <td>928.0</td>\n",
       "      <td>1</td>\n",
       "      <td>1629</td>\n",
       "      <td>189900</td>\n",
       "    </tr>\n",
       "  </tbody>\n",
       "</table>\n",
       "</div>"
      ],
      "text/plain": [
       "   Overall Qual  Overall Cond  Total Bsmt SF  Central Air  Gr Liv Area  \\\n",
       "0             6             5         1080.0            1         1656   \n",
       "1             5             6          882.0            1          896   \n",
       "2             6             6         1329.0            1         1329   \n",
       "3             7             5         2110.0            1         2110   \n",
       "4             5             5          928.0            1         1629   \n",
       "\n",
       "   SalePrice  \n",
       "0     215000  \n",
       "1     105000  \n",
       "2     172000  \n",
       "3     244000  \n",
       "4     189900  "
      ]
     },
     "execution_count": 78,
     "metadata": {},
     "output_type": "execute_result"
    }
   ],
   "source": [
    "house_df.head()"
   ]
  },
  {
   "cell_type": "code",
   "execution_count": 79,
   "id": "b21cf499",
   "metadata": {},
   "outputs": [
    {
     "data": {
      "text/plain": [
       "Overall Qual     0\n",
       "Overall Cond     0\n",
       "Total Bsmt SF    1\n",
       "Central Air      0\n",
       "Gr Liv Area      0\n",
       "SalePrice        0\n",
       "dtype: int64"
      ]
     },
     "execution_count": 79,
     "metadata": {},
     "output_type": "execute_result"
    }
   ],
   "source": [
    "house_df.isnull().sum()"
   ]
  },
  {
   "cell_type": "code",
   "execution_count": 80,
   "id": "ec7502af",
   "metadata": {},
   "outputs": [
    {
     "data": {
      "text/plain": [
       "Overall Qual     0\n",
       "Overall Cond     0\n",
       "Total Bsmt SF    1\n",
       "Central Air      0\n",
       "Gr Liv Area      0\n",
       "SalePrice        0\n",
       "dtype: int64"
      ]
     },
     "execution_count": 80,
     "metadata": {},
     "output_type": "execute_result"
    }
   ],
   "source": [
    "house_df.isna().sum()"
   ]
  },
  {
   "cell_type": "code",
   "execution_count": 81,
   "id": "cd61c0bc",
   "metadata": {},
   "outputs": [
    {
     "data": {
      "text/plain": [
       "<AxesSubplot:xlabel='Total Bsmt SF', ylabel='Count'>"
      ]
     },
     "execution_count": 81,
     "metadata": {},
     "output_type": "execute_result"
    },
    {
     "data": {
      "image/png": "[encoded data removed]",
      "text/plain": [
       "<Figure size 432x288 with 1 Axes>"
      ]
     },
     "metadata": {
      "needs_background": "light"
     },
     "output_type": "display_data"
    }
   ],
   "source": [
    "sns.histplot(house_df['Total Bsmt SF'])"
   ]
  },
  {
   "cell_type": "code",
   "execution_count": 82,
   "id": "fa0910ac",
   "metadata": {},
   "outputs": [
    {
     "data": {
      "text/plain": [
       "(2930, 6)"
      ]
     },
     "execution_count": 82,
     "metadata": {},
     "output_type": "execute_result"
    }
   ],
   "source": [
    "house_df.shape"
   ]
  },
  {
   "cell_type": "code",
   "execution_count": 83,
   "id": "4149e5bb",
   "metadata": {},
   "outputs": [],
   "source": [
    "# applying mean for Total Bsmt SF\n",
    "\n",
    "Bsmt_mean = house_df['Total Bsmt SF'].dropna().mean()\n",
    "house_df['Total Bsmt SF'] = house_df['Total Bsmt SF'].fillna(Bsmt_mean)\n"
   ]
  },
  {
   "cell_type": "code",
   "execution_count": 84,
   "id": "7df27941",
   "metadata": {},
   "outputs": [
    {
     "data": {
      "text/plain": [
       "Overall Qual     0\n",
       "Overall Cond     0\n",
       "Total Bsmt SF    0\n",
       "Central Air      0\n",
       "Gr Liv Area      0\n",
       "SalePrice        0\n",
       "dtype: int64"
      ]
     },
     "execution_count": 84,
     "metadata": {},
     "output_type": "execute_result"
    }
   ],
   "source": [
    "house_df.isnull().sum()"
   ]
  },
  {
   "cell_type": "code",
   "execution_count": 85,
   "id": "f25e54ca",
   "metadata": {},
   "outputs": [
    {
     "data": {
      "text/plain": [
       "Overall Qual     0\n",
       "Overall Cond     0\n",
       "Total Bsmt SF    0\n",
       "Central Air      0\n",
       "Gr Liv Area      0\n",
       "SalePrice        0\n",
       "dtype: int64"
      ]
     },
     "execution_count": 85,
     "metadata": {},
     "output_type": "execute_result"
    }
   ],
   "source": [
    "house_df.isna().sum()"
   ]
  },
  {
   "cell_type": "code",
   "execution_count": 86,
   "id": "8322944e",
   "metadata": {},
   "outputs": [
    {
     "name": "stdout",
     "output_type": "stream",
     "text": [
      " Number of duplicates in the original dataset: 10\n"
     ]
    }
   ],
   "source": [
    "# checking for duplicates\n",
    "\n",
    "print(' Number of duplicates in the original dataset:', house_df.duplicated().sum())"
   ]
  },
  {
   "cell_type": "code",
   "execution_count": 87,
   "id": "87811a8a",
   "metadata": {},
   "outputs": [],
   "source": [
    "new_house_df = house_df.drop_duplicates()"
   ]
  },
  {
   "cell_type": "code",
   "execution_count": 88,
   "id": "acbc9748",
   "metadata": {},
   "outputs": [
    {
     "name": "stdout",
     "output_type": "stream",
     "text": [
      " Number of duplicates in the original dataset: 0\n"
     ]
    }
   ],
   "source": [
    "print(' Number of duplicates in the original dataset:', new_house_df.duplicated().sum())"
   ]
  },
  {
   "cell_type": "code",
   "execution_count": 89,
   "id": "7d29c910",
   "metadata": {},
   "outputs": [
    {
     "data": {
      "text/plain": [
       "(2920, 6)"
      ]
     },
     "execution_count": 89,
     "metadata": {},
     "output_type": "execute_result"
    }
   ],
   "source": [
    "new_house_df.shape"
   ]
  },
  {
   "cell_type": "code",
   "execution_count": 90,
   "id": "c3743971",
   "metadata": {},
   "outputs": [
    {
     "data": {
      "text/html": [
       "<div>\n",
       "<style scoped>\n",
       "    .dataframe tbody tr th:only-of-type {\n",
       "        vertical-align: middle;\n",
       "    }\n",
       "\n",
       "    .dataframe tbody tr th {\n",
       "        vertical-align: top;\n",
       "    }\n",
       "\n",
       "    .dataframe thead th {\n",
       "        text-align: right;\n",
       "    }\n",
       "</style>\n",
       "<table border=\"1\" class=\"dataframe\">\n",
       "  <thead>\n",
       "    <tr style=\"text-align: right;\">\n",
       "      <th></th>\n",
       "      <th>Overall Qual</th>\n",
       "      <th>Overall Cond</th>\n",
       "      <th>Total Bsmt SF</th>\n",
       "      <th>Central Air</th>\n",
       "      <th>Gr Liv Area</th>\n",
       "      <th>SalePrice</th>\n",
       "    </tr>\n",
       "  </thead>\n",
       "  <tbody>\n",
       "    <tr>\n",
       "      <th>0</th>\n",
       "      <td>6</td>\n",
       "      <td>5</td>\n",
       "      <td>1080.0</td>\n",
       "      <td>1</td>\n",
       "      <td>1656</td>\n",
       "      <td>215000</td>\n",
       "    </tr>\n",
       "    <tr>\n",
       "      <th>1</th>\n",
       "      <td>5</td>\n",
       "      <td>6</td>\n",
       "      <td>882.0</td>\n",
       "      <td>1</td>\n",
       "      <td>896</td>\n",
       "      <td>105000</td>\n",
       "    </tr>\n",
       "    <tr>\n",
       "      <th>2</th>\n",
       "      <td>6</td>\n",
       "      <td>6</td>\n",
       "      <td>1329.0</td>\n",
       "      <td>1</td>\n",
       "      <td>1329</td>\n",
       "      <td>172000</td>\n",
       "    </tr>\n",
       "    <tr>\n",
       "      <th>3</th>\n",
       "      <td>7</td>\n",
       "      <td>5</td>\n",
       "      <td>2110.0</td>\n",
       "      <td>1</td>\n",
       "      <td>2110</td>\n",
       "      <td>244000</td>\n",
       "    </tr>\n",
       "    <tr>\n",
       "      <th>4</th>\n",
       "      <td>5</td>\n",
       "      <td>5</td>\n",
       "      <td>928.0</td>\n",
       "      <td>1</td>\n",
       "      <td>1629</td>\n",
       "      <td>189900</td>\n",
       "    </tr>\n",
       "  </tbody>\n",
       "</table>\n",
       "</div>"
      ],
      "text/plain": [
       "   Overall Qual  Overall Cond  Total Bsmt SF  Central Air  Gr Liv Area  \\\n",
       "0             6             5         1080.0            1         1656   \n",
       "1             5             6          882.0            1          896   \n",
       "2             6             6         1329.0            1         1329   \n",
       "3             7             5         2110.0            1         2110   \n",
       "4             5             5          928.0            1         1629   \n",
       "\n",
       "   SalePrice  \n",
       "0     215000  \n",
       "1     105000  \n",
       "2     172000  \n",
       "3     244000  \n",
       "4     189900  "
      ]
     },
     "execution_count": 90,
     "metadata": {},
     "output_type": "execute_result"
    }
   ],
   "source": [
    "new_house_df.head()"
   ]
  },
  {
   "cell_type": "markdown",
   "id": "6509341b",
   "metadata": {},
   "source": [
    "<h3 align='center' style=\"color: black;\">Exploratory Analysis</h3>"
   ]
  },
  {
   "cell_type": "code",
   "execution_count": 91,
   "id": "9e2bd886",
   "metadata": {},
   "outputs": [
    {
     "data": {
      "text/plain": [
       "<AxesSubplot:xlabel='SalePrice', ylabel='Count'>"
      ]
     },
     "execution_count": 91,
     "metadata": {},
     "output_type": "execute_result"
    },
    {
     "data": {
      "image/png": "[encoded data removed]",
      "text/plain": [
       "<Figure size 432x288 with 1 Axes>"
      ]
     },
     "metadata": {
      "needs_background": "light"
     },
     "output_type": "display_data"
    }
   ],
   "source": [
    "sns.histplot(x=new_house_df['SalePrice'], data=new_house_df)"
   ]
  },
  {
   "cell_type": "code",
   "execution_count": 92,
   "id": "a5312b9d",
   "metadata": {},
   "outputs": [
    {
     "name": "stderr",
     "output_type": "stream",
     "text": [
      "/Users/ammu/Desktop/anaconda3/lib/python3.9/site-packages/seaborn/distributions.py:2619: FutureWarning: `distplot` is a deprecated function and will be removed in a future version. Please adapt your code to use either `displot` (a figure-level function with similar flexibility) or `histplot` (an axes-level function for histograms).\n",
      "  warnings.warn(msg, FutureWarning)\n"
     ]
    },
    {
     "data": {
      "image/png": "[encoded data removed]",
      "text/plain": [
       "<Figure size 432x288 with 1 Axes>"
      ]
     },
     "metadata": {
      "needs_background": "light"
     },
     "output_type": "display_data"
    }
   ],
   "source": [
    "figsize = (15,11)\n",
    "sns.distplot(x=new_house_df['SalePrice'], bins=100)\n",
    "plt.show()"
   ]
  },
  {
   "cell_type": "code",
   "execution_count": 93,
   "id": "08b127eb",
   "metadata": {},
   "outputs": [
    {
     "data": {
      "image/png": "[encoded data removed]",
      "text/plain": [
       "<Figure size 432x432 with 2 Axes>"
      ]
     },
     "metadata": {
      "needs_background": "light"
     },
     "output_type": "display_data"
    }
   ],
   "source": [
    "plt.figure(figsize = (6,6))\n",
    "sns.heatmap(new_house_df.corr(), annot=True, cmap='coolwarm',linewidths = .6)\n",
    "plt.show()"
   ]
  },
  {
   "cell_type": "markdown",
   "id": "5ca80e0e",
   "metadata": {},
   "source": [
    "<h3 align='center' style=\"color: black;\">Specifying X (predictor) and y (target) variables</h3>"
   ]
  },
  {
   "cell_type": "code",
   "execution_count": 94,
   "id": "7ec9ce86",
   "metadata": {},
   "outputs": [],
   "source": [
    "X = new_house_df.drop(columns=['SalePrice'], axis=1)"
   ]
  },
  {
   "cell_type": "code",
   "execution_count": 95,
   "id": "079ec7e7",
   "metadata": {},
   "outputs": [
    {
     "data": {
      "text/plain": [
       "Index(['Overall Qual', 'Overall Cond', 'Total Bsmt SF', 'Central Air',\n",
       "       'Gr Liv Area'],\n",
       "      dtype='object')"
      ]
     },
     "execution_count": 95,
     "metadata": {},
     "output_type": "execute_result"
    }
   ],
   "source": [
    "X.columns"
   ]
  },
  {
   "cell_type": "code",
   "execution_count": 96,
   "id": "9c6e8fee",
   "metadata": {},
   "outputs": [],
   "source": [
    "y = new_house_df['SalePrice']"
   ]
  },
  {
   "cell_type": "code",
   "execution_count": 97,
   "id": "ab09e642",
   "metadata": {},
   "outputs": [
    {
     "data": {
      "text/plain": [
       "(2920, 5)"
      ]
     },
     "execution_count": 97,
     "metadata": {},
     "output_type": "execute_result"
    }
   ],
   "source": [
    "X.shape"
   ]
  },
  {
   "cell_type": "code",
   "execution_count": 98,
   "id": "f8e0378b",
   "metadata": {},
   "outputs": [
    {
     "data": {
      "text/plain": [
       "(2920,)"
      ]
     },
     "execution_count": 98,
     "metadata": {},
     "output_type": "execute_result"
    }
   ],
   "source": [
    "y.shape"
   ]
  },
  {
   "cell_type": "code",
   "execution_count": 99,
   "id": "f80dc4e3",
   "metadata": {
    "scrolled": false
   },
   "outputs": [
    {
     "data": {
      "image/png": "[encoded data removed]",
      "text/plain": [
       "<Figure size 576x576 with 2 Axes>"
      ]
     },
     "metadata": {
      "needs_background": "light"
     },
     "output_type": "display_data"
    }
   ],
   "source": [
    "plt.figure(figsize = (8,8))\n",
    "sns.heatmap(X.corr(), annot=True, cmap='coolwarm',linewidths = .6)\n",
    "plt.show()"
   ]
  },
  {
   "cell_type": "markdown",
   "id": "d910d610",
   "metadata": {},
   "source": [
    "### Scaling the data using MinMaxScaler()"
   ]
  },
  {
   "cell_type": "code",
   "execution_count": 101,
   "id": "521f295c",
   "metadata": {},
   "outputs": [],
   "source": [
    "from sklearn.preprocessing import MinMaxScaler, PolynomialFeatures\n",
    "scaler = MinMaxScaler()"
   ]
  },
  {
   "cell_type": "code",
   "execution_count": 102,
   "id": "6ac0accc",
   "metadata": {},
   "outputs": [],
   "source": [
    "from sklearn.model_selection import train_test_split\n",
    "  \n",
    "X_train, X_test, y_train, y_test = train_test_split(X, y, test_size = 0.3, random_state = 0)"
   ]
  },
  {
   "cell_type": "code",
   "execution_count": 103,
   "id": "674031f9",
   "metadata": {},
   "outputs": [
    {
     "data": {
      "text/plain": [
       "(2044, 876, 2044, 876)"
      ]
     },
     "execution_count": 103,
     "metadata": {},
     "output_type": "execute_result"
    }
   ],
   "source": [
    "len(X_train),len(X_test), len(y_train), len(y_test)"
   ]
  },
  {
   "cell_type": "code",
   "execution_count": 104,
   "id": "b8e28450",
   "metadata": {},
   "outputs": [
    {
     "data": {
      "text/plain": [
       "((2044, 5), (876, 5), (2044,), (876,))"
      ]
     },
     "execution_count": 104,
     "metadata": {},
     "output_type": "execute_result"
    }
   ],
   "source": [
    "X_train.shape, X_test.shape, y_train.shape, y_test.shape"
   ]
  },
  {
   "cell_type": "code",
   "execution_count": 105,
   "id": "827ecd21",
   "metadata": {},
   "outputs": [],
   "source": [
    "#scale our data\n",
    "scaler.fit(X_train)\n",
    "X_train_scaled = scaler.transform(X_train)\n",
    "#now scale xtest using the same scaler\n",
    "X_test_scaled = scaler.transform(X_test)"
   ]
  },
  {
   "cell_type": "markdown",
   "id": "d657e174",
   "metadata": {},
   "source": [
    "<h3 align='center' style=\"color: black;\">Training the model</h3>"
   ]
  },
  {
   "cell_type": "markdown",
   "id": "d4cc2790",
   "metadata": {},
   "source": [
    "### 1. Linear Regression"
   ]
  },
  {
   "cell_type": "code",
   "execution_count": 106,
   "id": "fa0b4a27",
   "metadata": {},
   "outputs": [],
   "source": [
    "from sklearn.linear_model import LinearRegression\n",
    "\n",
    "linear_model = LinearRegression()\n",
    "\n",
    "linear_model.fit(X_train_scaled, y_train)\n",
    "\n",
    "y_test_hat = linear_model.predict(X_test_scaled)"
   ]
  },
  {
   "cell_type": "code",
   "execution_count": 107,
   "id": "a9f2dfda",
   "metadata": {},
   "outputs": [
    {
     "name": "stdout",
     "output_type": "stream",
     "text": [
      "Training R-Squared:  0.7498716215218659\n",
      "Test R-Squared:  0.7972072352993547\n"
     ]
    }
   ],
   "source": [
    "print(\"Training R-Squared: \", linear_model.score(X_train_scaled, y_train))\n",
    "print(\"Test R-Squared: \", linear_model.score(X_test_scaled, y_test))"
   ]
  },
  {
   "cell_type": "code",
   "execution_count": 108,
   "id": "15cbec78",
   "metadata": {},
   "outputs": [
    {
     "name": "stdout",
     "output_type": "stream",
     "text": [
      "MAE = 25465.883400166458\n",
      "MSE = 1318944344.0124044\n",
      "RMSE = 36317.273355972146\n"
     ]
    }
   ],
   "source": [
    "from sklearn.metrics import mean_absolute_error, mean_squared_error\n",
    "MAE = mean_absolute_error(y_test,y_test_hat)\n",
    "MSE = mean_squared_error(y_test,y_test_hat)\n",
    "RMSE = np.sqrt(MSE)\n",
    "\n",
    "print(\"MAE = {}\".format(MAE))\n",
    "print(\"MSE = {}\".format(MSE))\n",
    "print(\"RMSE = {}\".format(RMSE))"
   ]
  },
  {
   "cell_type": "markdown",
   "id": "a4e2f319",
   "metadata": {},
   "source": [
    "### 2. Lasso"
   ]
  },
  {
   "cell_type": "code",
   "execution_count": 109,
   "id": "4230a0c1",
   "metadata": {},
   "outputs": [],
   "source": [
    "#use your regression model\n",
    "from sklearn.linear_model import LinearRegression, Ridge, Lasso\n",
    "#model = LinearRegression()\n",
    "lasso_model = Lasso(alpha = 0.05)\n",
    "#learn the training set\n",
    "lasso_model.fit(X_train_scaled, y_train)\n",
    "y_predicted = lasso_model.predict(X_test_scaled)"
   ]
  },
  {
   "cell_type": "code",
   "execution_count": 110,
   "id": "a87a42f3",
   "metadata": {},
   "outputs": [
    {
     "name": "stdout",
     "output_type": "stream",
     "text": [
      "Training R-Squared:  0.7498716213887408\n",
      "Test R-Squared:  1.0\n"
     ]
    }
   ],
   "source": [
    "print(\"Training R-Squared: \", lasso_model.score(X_train_scaled, y_train))\n",
    "print(\"Test R-Squared: \", lasso_model.score(X_test_scaled, y_predicted))"
   ]
  },
  {
   "cell_type": "code",
   "execution_count": 111,
   "id": "4d24c81a",
   "metadata": {
    "scrolled": true
   },
   "outputs": [
    {
     "name": "stdout",
     "output_type": "stream",
     "text": [
      "MAE = 25465.92196056621\n",
      "MSE = 1318952427.040507\n",
      "RMSE = 36317.38463932263\n"
     ]
    }
   ],
   "source": [
    "from sklearn.metrics import mean_absolute_error, mean_squared_error\n",
    "MAE = mean_absolute_error(y_test,y_predicted)\n",
    "MSE = mean_squared_error(y_test,y_predicted)\n",
    "RMSE = np.sqrt(MSE)\n",
    "print(\"MAE = {}\".format(MAE))\n",
    "print(\"MSE = {}\".format(MSE))\n",
    "print(\"RMSE = {}\".format(RMSE))\n"
   ]
  },
  {
   "cell_type": "markdown",
   "id": "2d8c3e81",
   "metadata": {},
   "source": [
    "### 3. Ridge"
   ]
  },
  {
   "cell_type": "code",
   "execution_count": 112,
   "id": "7c578cc8",
   "metadata": {},
   "outputs": [],
   "source": [
    "#use your regression model\n",
    "from sklearn.linear_model import LinearRegression, Ridge, Lasso\n",
    "#model = LinearRegression()\n",
    "ridge_model = Ridge(alpha = 0.05)\n",
    "#learn the training set\n",
    "ridge_model.fit(X_train_scaled, y_train)\n",
    "y_predicted = ridge_model.predict(X_test_scaled)"
   ]
  },
  {
   "cell_type": "code",
   "execution_count": 113,
   "id": "ac76a4dd",
   "metadata": {},
   "outputs": [
    {
     "name": "stdout",
     "output_type": "stream",
     "text": [
      "Training R-Squared:  0.7498704632197066\n",
      "Test R-Squared:  1.0\n"
     ]
    }
   ],
   "source": [
    "print(\"Training R-Squared: \", ridge_model.score(X_train_scaled, y_train))\n",
    "print(\"Test R-Squared: \", ridge_model.score(X_test_scaled, y_predicted))"
   ]
  },
  {
   "cell_type": "code",
   "execution_count": 114,
   "id": "328a46cb",
   "metadata": {},
   "outputs": [
    {
     "name": "stdout",
     "output_type": "stream",
     "text": [
      "MAE = 25468.454004579893\n",
      "MSE = 1319897236.2551103\n",
      "RMSE = 36330.389982150075\n"
     ]
    }
   ],
   "source": [
    "from sklearn.metrics import mean_absolute_error, mean_squared_error\n",
    "MAE = mean_absolute_error(y_test,y_predicted)\n",
    "MSE = mean_squared_error(y_test,y_predicted)\n",
    "RMSE = np.sqrt(MSE)\n",
    "print(\"MAE = {}\".format(MAE))\n",
    "print(\"MSE = {}\".format(MSE))\n",
    "print(\"RMSE = {}\".format(RMSE))"
   ]
  },
  {
   "cell_type": "markdown",
   "id": "8b609d32",
   "metadata": {},
   "source": [
    "### 4. Random Forest regressor with scaled data using MinMaxScaler()"
   ]
  },
  {
   "cell_type": "code",
   "execution_count": 115,
   "id": "e2f879c6",
   "metadata": {},
   "outputs": [],
   "source": [
    "\n",
    "# Fitting Random Forest Regression to the dataset\n",
    "# import the regressor\n",
    "from sklearn.ensemble import RandomForestRegressor\n",
    "  \n",
    " # create regressor object\n",
    "regressor = RandomForestRegressor(n_estimators = 100, random_state = 42)\n",
    "  \n",
    "# fit the regressor with x and y data\n",
    "regressor.fit(X_train_scaled, y_train)  \n",
    "\n",
    "y_predicted = regressor.predict(X_test_scaled)"
   ]
  },
  {
   "cell_type": "code",
   "execution_count": 116,
   "id": "dc3d765e",
   "metadata": {},
   "outputs": [
    {
     "name": "stdout",
     "output_type": "stream",
     "text": [
      "Training R-Squared:  0.9743682527814783\n",
      "Test R-Squared:  0.854652467837098\n"
     ]
    }
   ],
   "source": [
    "print(\"Training R-Squared: \", regressor.score(X_train_scaled, y_train))\n",
    "print(\"Test R-Squared: \", regressor.score(X_test_scaled, y_test))"
   ]
  },
  {
   "cell_type": "code",
   "execution_count": 117,
   "id": "1d25368d",
   "metadata": {},
   "outputs": [
    {
     "name": "stdout",
     "output_type": "stream",
     "text": [
      "MAE = 21398.629691518716\n",
      "MSE = 945326159.6655501\n",
      "RMSE = 30746.15682757034\n"
     ]
    }
   ],
   "source": [
    "from sklearn.metrics import mean_absolute_error, mean_squared_error\n",
    "MAE = mean_absolute_error(y_test,y_predicted)\n",
    "MSE = mean_squared_error(y_test,y_predicted)\n",
    "RMSE = np.sqrt(MSE)\n",
    "\n",
    "print(\"MAE = {}\".format(MAE))\n",
    "print(\"MSE = {}\".format(MSE))\n",
    "print(\"RMSE = {}\".format(RMSE))"
   ]
  },
  {
   "cell_type": "markdown",
   "id": "a7186ce9",
   "metadata": {},
   "source": [
    "### 5. Random Forest regressor with original data"
   ]
  },
  {
   "cell_type": "code",
   "execution_count": 118,
   "id": "8e25a6fb",
   "metadata": {},
   "outputs": [],
   "source": [
    "\n",
    "# Fitting Random Forest Regression to the dataset\n",
    "# import the regressor\n",
    "from sklearn.ensemble import RandomForestRegressor\n",
    "  \n",
    " # create regressor object\n",
    "regressor = RandomForestRegressor(n_estimators = 100, random_state = 42)\n",
    "  \n",
    "# fit the regressor with x and y data\n",
    "regressor.fit(X_train, y_train)  \n",
    "\n",
    "y_predicted = regressor.predict(X_test)"
   ]
  },
  {
   "cell_type": "code",
   "execution_count": 119,
   "id": "6122a7b7",
   "metadata": {},
   "outputs": [
    {
     "name": "stdout",
     "output_type": "stream",
     "text": [
      "Training R-Squared:  0.9743678664414066\n",
      "Test R-Squared:  0.8545172441651083\n"
     ]
    }
   ],
   "source": [
    "print(\"Training R-Squared: \", regressor.score(X_train, y_train))\n",
    "print(\"Test R-Squared: \", regressor.score(X_test, y_test))"
   ]
  },
  {
   "cell_type": "code",
   "execution_count": 120,
   "id": "7d590be5",
   "metadata": {},
   "outputs": [
    {
     "name": "stdout",
     "output_type": "stream",
     "text": [
      "MAE = 21421.701243894233\n",
      "MSE = 946205641.2269892\n",
      "RMSE = 30760.45580330352\n"
     ]
    }
   ],
   "source": [
    "from sklearn.metrics import mean_absolute_error, mean_squared_error\n",
    "MAE = mean_absolute_error(y_test,y_predicted)\n",
    "MSE = mean_squared_error(y_test,y_predicted)\n",
    "RMSE = np.sqrt(MSE)\n",
    "\n",
    "print(\"MAE = {}\".format(MAE))\n",
    "print(\"MSE = {}\".format(MSE))\n",
    "print(\"RMSE = {}\".format(RMSE))"
   ]
  },
  {
   "cell_type": "markdown",
   "id": "d3a24ad6",
   "metadata": {},
   "source": [
    "### Scaling the data using StandardScalar()"
   ]
  },
  {
   "cell_type": "code",
   "execution_count": 121,
   "id": "388aa4c0",
   "metadata": {},
   "outputs": [],
   "source": [
    "scale_house_df = new_house_df"
   ]
  },
  {
   "cell_type": "code",
   "execution_count": 122,
   "id": "0c8ad069",
   "metadata": {},
   "outputs": [
    {
     "data": {
      "text/html": [
       "<div>\n",
       "<style scoped>\n",
       "    .dataframe tbody tr th:only-of-type {\n",
       "        vertical-align: middle;\n",
       "    }\n",
       "\n",
       "    .dataframe tbody tr th {\n",
       "        vertical-align: top;\n",
       "    }\n",
       "\n",
       "    .dataframe thead th {\n",
       "        text-align: right;\n",
       "    }\n",
       "</style>\n",
       "<table border=\"1\" class=\"dataframe\">\n",
       "  <thead>\n",
       "    <tr style=\"text-align: right;\">\n",
       "      <th></th>\n",
       "      <th>Overall Qual</th>\n",
       "      <th>Overall Cond</th>\n",
       "      <th>Total Bsmt SF</th>\n",
       "      <th>Central Air</th>\n",
       "      <th>Gr Liv Area</th>\n",
       "      <th>SalePrice</th>\n",
       "    </tr>\n",
       "  </thead>\n",
       "  <tbody>\n",
       "    <tr>\n",
       "      <th>0</th>\n",
       "      <td>6</td>\n",
       "      <td>5</td>\n",
       "      <td>1080.0</td>\n",
       "      <td>1</td>\n",
       "      <td>1656</td>\n",
       "      <td>215000</td>\n",
       "    </tr>\n",
       "    <tr>\n",
       "      <th>1</th>\n",
       "      <td>5</td>\n",
       "      <td>6</td>\n",
       "      <td>882.0</td>\n",
       "      <td>1</td>\n",
       "      <td>896</td>\n",
       "      <td>105000</td>\n",
       "    </tr>\n",
       "    <tr>\n",
       "      <th>2</th>\n",
       "      <td>6</td>\n",
       "      <td>6</td>\n",
       "      <td>1329.0</td>\n",
       "      <td>1</td>\n",
       "      <td>1329</td>\n",
       "      <td>172000</td>\n",
       "    </tr>\n",
       "    <tr>\n",
       "      <th>3</th>\n",
       "      <td>7</td>\n",
       "      <td>5</td>\n",
       "      <td>2110.0</td>\n",
       "      <td>1</td>\n",
       "      <td>2110</td>\n",
       "      <td>244000</td>\n",
       "    </tr>\n",
       "    <tr>\n",
       "      <th>4</th>\n",
       "      <td>5</td>\n",
       "      <td>5</td>\n",
       "      <td>928.0</td>\n",
       "      <td>1</td>\n",
       "      <td>1629</td>\n",
       "      <td>189900</td>\n",
       "    </tr>\n",
       "  </tbody>\n",
       "</table>\n",
       "</div>"
      ],
      "text/plain": [
       "   Overall Qual  Overall Cond  Total Bsmt SF  Central Air  Gr Liv Area  \\\n",
       "0             6             5         1080.0            1         1656   \n",
       "1             5             6          882.0            1          896   \n",
       "2             6             6         1329.0            1         1329   \n",
       "3             7             5         2110.0            1         2110   \n",
       "4             5             5          928.0            1         1629   \n",
       "\n",
       "   SalePrice  \n",
       "0     215000  \n",
       "1     105000  \n",
       "2     172000  \n",
       "3     244000  \n",
       "4     189900  "
      ]
     },
     "execution_count": 122,
     "metadata": {},
     "output_type": "execute_result"
    }
   ],
   "source": [
    "scale_house_df.head()"
   ]
  },
  {
   "cell_type": "code",
   "execution_count": 123,
   "id": "bd3edb98",
   "metadata": {},
   "outputs": [
    {
     "data": {
      "text/plain": [
       "((2920, 5), (2920,))"
      ]
     },
     "execution_count": 123,
     "metadata": {},
     "output_type": "execute_result"
    }
   ],
   "source": [
    "X.shape, y.shape"
   ]
  },
  {
   "cell_type": "code",
   "execution_count": 124,
   "id": "3b0662d9",
   "metadata": {},
   "outputs": [],
   "source": [
    "from sklearn.model_selection import train_test_split\n",
    "  \n",
    "X1_train, X1_test, y1_train, y1_test = train_test_split(X,y,test_size = 0.3, random_state=1)"
   ]
  },
  {
   "cell_type": "code",
   "execution_count": 126,
   "id": "3d55abd6",
   "metadata": {},
   "outputs": [],
   "source": [
    "# scaling the data\n",
    "\n",
    "from sklearn.preprocessing import StandardScaler\n",
    "\n",
    "scaler = StandardScaler()\n",
    "X_train_scalar = scaler.fit_transform(X1_train)\n",
    "X_test_scalar = scaler.transform(X1_test)"
   ]
  },
  {
   "cell_type": "markdown",
   "id": "6bd74c2d",
   "metadata": {},
   "source": [
    "### 6. Random Forest regressor with scaled data using StandardScaler()"
   ]
  },
  {
   "cell_type": "code",
   "execution_count": 127,
   "id": "18e4f8b8",
   "metadata": {},
   "outputs": [],
   "source": [
    "\n",
    "# Fitting Random Forest Regression to the dataset\n",
    "# import the regressor\n",
    "from sklearn.ensemble import RandomForestRegressor\n",
    "  \n",
    " # create regressor object\n",
    "regressor = RandomForestRegressor(n_estimators = 100, random_state = 42)\n",
    "  \n",
    "# fit the regressor with x and y data\n",
    "regressor.fit(X_train_scalar, y1_train)  \n",
    "\n",
    "y_predicted_RF = regressor.predict(X_test_scalar)"
   ]
  },
  {
   "cell_type": "code",
   "execution_count": 128,
   "id": "ebe96641",
   "metadata": {},
   "outputs": [
    {
     "name": "stdout",
     "output_type": "stream",
     "text": [
      "Training R-Squared:  0.9770319953039585\n",
      "Test R-Squared:  0.7958397241996271\n"
     ]
    }
   ],
   "source": [
    "print(\"Training R-Squared: \", regressor.score(X_train_scalar, y1_train))\n",
    "print(\"Test R-Squared: \", regressor.score(X_test_scalar, y1_test))"
   ]
  },
  {
   "cell_type": "code",
   "execution_count": 129,
   "id": "cc30eb3b",
   "metadata": {},
   "outputs": [
    {
     "name": "stdout",
     "output_type": "stream",
     "text": [
      "MAE = 21593.015465791403\n",
      "MSE = 1161737522.915673\n",
      "RMSE = 34084.27090192297\n"
     ]
    }
   ],
   "source": [
    "from sklearn.metrics import mean_absolute_error, mean_squared_error\n",
    "MAE = mean_absolute_error(y1_test,y_predicted_RF)\n",
    "MSE = mean_squared_error(y1_test,y_predicted_RF)\n",
    "RMSE = np.sqrt(MSE)\n",
    "\n",
    "print(\"MAE = {}\".format(MAE))\n",
    "print(\"MSE = {}\".format(MSE))\n",
    "print(\"RMSE = {}\".format(RMSE))"
   ]
  },
  {
   "cell_type": "markdown",
   "id": "6f97a070",
   "metadata": {},
   "source": [
    "<h3 align='center' style=\"color: black;\">Conclusion</h3>"
   ]
  },
  {
   "cell_type": "code",
   "execution_count": 130,
   "id": "6e9d884a",
   "metadata": {},
   "outputs": [
    {
     "data": {
      "text/html": [
       "<div>\n",
       "<style scoped>\n",
       "    .dataframe tbody tr th:only-of-type {\n",
       "        vertical-align: middle;\n",
       "    }\n",
       "\n",
       "    .dataframe tbody tr th {\n",
       "        vertical-align: top;\n",
       "    }\n",
       "\n",
       "    .dataframe thead th {\n",
       "        text-align: right;\n",
       "    }\n",
       "</style>\n",
       "<table border=\"1\" class=\"dataframe\">\n",
       "  <thead>\n",
       "    <tr style=\"text-align: right;\">\n",
       "      <th></th>\n",
       "      <th>Model</th>\n",
       "      <th>Train_R^2</th>\n",
       "      <th>Test_R^2</th>\n",
       "      <th>MAE</th>\n",
       "      <th>MSE</th>\n",
       "      <th>RMSE</th>\n",
       "    </tr>\n",
       "  </thead>\n",
       "  <tbody>\n",
       "    <tr>\n",
       "      <th>0</th>\n",
       "      <td>Linear Regression (MinMaxScalar) %</td>\n",
       "      <td>74.98</td>\n",
       "      <td>79.72</td>\n",
       "      <td>25465.88</td>\n",
       "      <td>1.318944e+09</td>\n",
       "      <td>36317.27</td>\n",
       "    </tr>\n",
       "    <tr>\n",
       "      <th>1</th>\n",
       "      <td>Lasso (MinMaxScalar) %</td>\n",
       "      <td>74.98</td>\n",
       "      <td>100.00</td>\n",
       "      <td>25465.92</td>\n",
       "      <td>1.318952e+09</td>\n",
       "      <td>36317.38</td>\n",
       "    </tr>\n",
       "    <tr>\n",
       "      <th>2</th>\n",
       "      <td>Ridge (MinMaxScalar) %</td>\n",
       "      <td>74.98</td>\n",
       "      <td>99.99</td>\n",
       "      <td>25468.45</td>\n",
       "      <td>1.319897e+09</td>\n",
       "      <td>36330.38</td>\n",
       "    </tr>\n",
       "    <tr>\n",
       "      <th>3</th>\n",
       "      <td>Random Forest (MinMaxScalar) %</td>\n",
       "      <td>97.43</td>\n",
       "      <td>85.46</td>\n",
       "      <td>21398.62</td>\n",
       "      <td>9.453262e+08</td>\n",
       "      <td>30746.15</td>\n",
       "    </tr>\n",
       "    <tr>\n",
       "      <th>4</th>\n",
       "      <td>Random Forest (Orig) %</td>\n",
       "      <td>97.43</td>\n",
       "      <td>85.45</td>\n",
       "      <td>21421.70</td>\n",
       "      <td>9.462056e+08</td>\n",
       "      <td>30760.45</td>\n",
       "    </tr>\n",
       "    <tr>\n",
       "      <th>5</th>\n",
       "      <td>Random Forest (StandardScalar) %</td>\n",
       "      <td>97.70</td>\n",
       "      <td>79.58</td>\n",
       "      <td>21593.01</td>\n",
       "      <td>1.161738e+09</td>\n",
       "      <td>34084.27</td>\n",
       "    </tr>\n",
       "  </tbody>\n",
       "</table>\n",
       "</div>"
      ],
      "text/plain": [
       "                                Model  Train_R^2  Test_R^2       MAE  \\\n",
       "0  Linear Regression (MinMaxScalar) %      74.98     79.72  25465.88   \n",
       "1              Lasso (MinMaxScalar) %      74.98    100.00  25465.92   \n",
       "2              Ridge (MinMaxScalar) %      74.98     99.99  25468.45   \n",
       "3      Random Forest (MinMaxScalar) %      97.43     85.46  21398.62   \n",
       "4              Random Forest (Orig) %      97.43     85.45  21421.70   \n",
       "5    Random Forest (StandardScalar) %      97.70     79.58  21593.01   \n",
       "\n",
       "            MSE      RMSE  \n",
       "0  1.318944e+09  36317.27  \n",
       "1  1.318952e+09  36317.38  \n",
       "2  1.319897e+09  36330.38  \n",
       "3  9.453262e+08  30746.15  \n",
       "4  9.462056e+08  30760.45  \n",
       "5  1.161738e+09  34084.27  "
      ]
     },
     "execution_count": 130,
     "metadata": {},
     "output_type": "execute_result"
    }
   ],
   "source": [
    "details = {\n",
    "    'Model' : ['Linear Regression (MinMaxScalar) %' , \n",
    "               'Lasso (MinMaxScalar) %', \n",
    "               'Ridge (MinMaxScalar) %',\n",
    "               'Random Forest (MinMaxScalar) %',\n",
    "               'Random Forest (Orig) %',\n",
    "               'Random Forest (StandardScalar) %',],\n",
    "    'Train_R^2' : [74.98, 74.98, 74.98, 97.43, 97.43, 97.70],\n",
    "    'Test_R^2' : [79.72, 100, 99.99, 85.46, 85.45, 79.58],\n",
    "    'MAE' : [25465.88, 25465.92, 25468.45, 21398.62, 21421.70, 21593.01],\n",
    "    'MSE' : [1318944344.01, 1318952427.04, 1319897237.25, 945326159.66, 946205641.22, 1161737522.91],\n",
    "    'RMSE' :[36317.27, 36317.38, 36330.38, 30746.15, 30760.45, 34084.27],\n",
    "}\n",
    "  \n",
    "# creating a Dataframe object \n",
    "df = pd.DataFrame(details)\n",
    "  \n",
    "df"
   ]
  },
  {
   "cell_type": "markdown",
   "id": "2a1695fe",
   "metadata": {},
   "source": [
    "Random Forest with scaled data using MinMaxScalar() is performing well with r_square(train) as 97.43%, r_square(test) as 85.46% and with RMSE as 30746.15 "
   ]
  }
 ],
 "metadata": {
  "kernelspec": {
   "display_name": "Python 3 (ipykernel)",
   "language": "python",
   "name": "python3"
  },
  "language_info": {
   "codemirror_mode": {
    "name": "ipython",
    "version": 3
   },
   "file_extension": ".py",
   "mimetype": "text/x-python",
   "name": "python",
   "nbconvert_exporter": "python",
   "pygments_lexer": "ipython3",
   "version": "3.9.7"
  }
 },
 "nbformat": 4,
 "nbformat_minor": 5
}
